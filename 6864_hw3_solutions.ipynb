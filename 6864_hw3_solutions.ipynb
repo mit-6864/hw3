{
  "nbformat": 4,
  "nbformat_minor": 0,
  "metadata": {
    "colab": {
      "name": "6864-hw3-TA.ipynb",
      "provenance": [],
      "collapsed_sections": [
        "QUmbSucW8eYB"
      ],
      "toc_visible": true,
      "machine_shape": "hm"
    },
    "kernelspec": {
      "name": "python3",
      "display_name": "Python 3"
    },
    "accelerator": "GPU"
  },
  "cells": [
    {
      "cell_type": "markdown",
      "metadata": {
        "id": "QUmbSucW8eYB"
      },
      "source": [
        "# Introduction\n",
        "In this notebook, you will find code scaffolding for the seq2seq part of Homework 3 (code for the trees section of the assignment is released in another notebook). There are certain parts of the scaffolding marked with `# Your code here!` comments where you can fill in code to perform the specified tasks. After implementing the methods in this notebook, you will need to design and perform experiments to evaluate each method and respond to the questions in the Homework 3 handout (available on Canvas). You should be able to complete this assignment without changing any of the scaffolding code, just writing code to fill in the scaffolding and run experiments."
      ]
    },
    {
      "cell_type": "markdown",
      "metadata": {
        "id": "Kg6-Ub-g-T5p"
      },
      "source": [
        "# Set up dependencies and data"
      ]
    },
    {
      "cell_type": "code",
      "metadata": {
        "id": "cuLyWHF--mSu",
        "colab": {
          "base_uri": "https://localhost:8080/"
        },
        "outputId": "943c85f3-14cb-416c-8d97-7afa4e8dfae8"
      },
      "source": [
        "%%bash\n",
        "!(stat -t /usr/local/lib/*/dist-packages/google/colab > /dev/null 2>&1) && exit \n",
        "rm -rf hw3\n",
        "\n",
        "# hopefully will work when no longer private...\n",
        "# git clone https://github.com/mit-6864/hw3.git\n",
        "\n",
        "pip install sacrebleu"
      ],
      "execution_count": 139,
      "outputs": [
        {
          "output_type": "stream",
          "text": [
            "Requirement already satisfied: sacrebleu in /usr/local/lib/python3.6/dist-packages (1.5.0)\n",
            "Requirement already satisfied: portalocker in /usr/local/lib/python3.6/dist-packages (from sacrebleu) (2.2.1)\n"
          ],
          "name": "stdout"
        }
      ]
    },
    {
      "cell_type": "code",
      "metadata": {
        "id": "_gSxf6UJXqbx"
      },
      "source": [
        "!mkdir -p /content/hw3/data"
      ],
      "execution_count": 140,
      "outputs": []
    },
    {
      "cell_type": "code",
      "metadata": {
        "colab": {
          "base_uri": "https://localhost:8080/"
        },
        "id": "ugIWLTuIYxPl",
        "outputId": "33d76f4f-229b-4e24-b221-14b24349eac0"
      },
      "source": [
        "!ls\n"
      ],
      "execution_count": 141,
      "outputs": [
        {
          "output_type": "stream",
          "text": [
            "hw3  sample_data\n"
          ],
          "name": "stdout"
        }
      ]
    },
    {
      "cell_type": "code",
      "metadata": {
        "id": "HV1H7hrZ-zgG"
      },
      "source": [
        "import sys\n",
        "sys.path.append(\"/content/hw3\")\n",
        "\n",
        "import lab_utils\n",
        "\n",
        "import importlib\n",
        "importlib.reload(lab_utils)\n",
        "dir(lab_utils)\n",
        "\n",
        "import torch \n",
        "import numpy as np\n",
        "\n",
        "device = \"cuda\" if torch.cuda.is_available() else \"cpu\"\n",
        "assert device == \"cuda\"   # use gpu whenever you can!\n",
        "\n",
        "seed = 42\n",
        "np.random.seed(seed)\n",
        "torch.manual_seed(seed)\n",
        "torch.cuda.manual_seed(seed)"
      ],
      "execution_count": 159,
      "outputs": []
    },
    {
      "cell_type": "markdown",
      "metadata": {
        "id": "5q6D9jJX91Gr"
      },
      "source": [
        "# Part 1: Sequence-to-Sequence Model\n",
        "\n",
        "In this lab, we will explore RNN-based sequence-to-sequence (seq2seq) models to perform machine translation (MT).\n",
        "\n",
        "*   **Task:** translate from Vietnamese to English\n",
        "*   **Model:** RNN-based encoder-decoder\n",
        "*   **Data:** Vietnamese-English dataset from IWSLT'15\n",
        "\n",
        "\n",
        "Implementation Tasks:\n",
        "1. Data Preprocessing (done by TAs)\n",
        "2. **Encoder** \n",
        "3. **Decoder**\n",
        "4. Vanilla EncoderDecoder (done by TAs)\n",
        "5. Generator (done by TAs)\n",
        "6. **Attention Layer** (should we choose mechanism or let them choose?)\n",
        "7. **Attention-based Decoder**\n",
        "8. **EncoderAttentionDecoder** - basically can copy Vanilla\n",
        "9. Training (done by TAs)\n",
        "10. **Greedy Decoding** \n",
        "11. ***Beam Decoding (6.806 optional)***\n",
        "12. **Written/Thinking: Analyze Decoded Output**\n",
        "13. Testing via BLEU (done by TAs)"
      ]
    },
    {
      "cell_type": "markdown",
      "metadata": {
        "id": "NHsx3v6lB3Mx"
      },
      "source": [
        "## Section 1: Data Preprocessing\n",
        "\n",
        "No need to write any code in this section. But you are encouraged to test with this part to understand the data.\n",
        "\n"
      ]
    },
    {
      "cell_type": "markdown",
      "metadata": {
        "id": "5bAN9N_lLHQs"
      },
      "source": [
        "### Download data\n",
        "First, we download the dataset and put it in the `/content/hw3/data` folder."
      ]
    },
    {
      "cell_type": "code",
      "metadata": {
        "colab": {
          "base_uri": "https://localhost:8080/"
        },
        "id": "QTfkJNUDB_G_",
        "outputId": "ca76446d-f657-4856-ace2-6c98e8242e5b"
      },
      "source": [
        "# Download data\n",
        "DATA_DIR = \"/content/hw3/data\"\n",
        "\n",
        "!wget -nv -O \"$DATA_DIR/train.en\" https://nlp.stanford.edu/projects/nmt/data/iwslt15.en-vi/train.en\n",
        "!wget -nv -O \"$DATA_DIR/train.vi\" https://nlp.stanford.edu/projects/nmt/data/iwslt15.en-vi/train.vi\n",
        "!wget -nv -O \"$DATA_DIR/tst2013.en\" https://nlp.stanford.edu/projects/nmt/data/iwslt15.en-vi/tst2013.en\n",
        "!wget -nv -O \"$DATA_DIR/tst2013.vi\" https://nlp.stanford.edu/projects/nmt/data/iwslt15.en-vi/tst2013.vi\n",
        "!wget -nv -O \"$DATA_DIR/vocab.en\" https://nlp.stanford.edu/projects/nmt/data/iwslt15.en-vi/vocab.en\n",
        "!wget -nv -O \"$DATA_DIR/vocab.vi\" https://nlp.stanford.edu/projects/nmt/data/iwslt15.en-vi/vocab.vi\n"
      ],
      "execution_count": 143,
      "outputs": [
        {
          "output_type": "stream",
          "text": [
            "2021-02-23 03:10:21 URL:https://nlp.stanford.edu/projects/nmt/data/iwslt15.en-vi/train.en [13603614/13603614] -> \"/content/hw3/data/train.en\" [1]\n",
            "2021-02-23 03:10:40 URL:https://nlp.stanford.edu/projects/nmt/data/iwslt15.en-vi/train.vi [18074646/18074646] -> \"/content/hw3/data/train.vi\" [1]\n",
            "2021-02-23 03:10:42 URL:https://nlp.stanford.edu/projects/nmt/data/iwslt15.en-vi/tst2013.en [132264/132264] -> \"/content/hw3/data/tst2013.en\" [1]\n",
            "2021-02-23 03:10:43 URL:https://nlp.stanford.edu/projects/nmt/data/iwslt15.en-vi/tst2013.vi [183855/183855] -> \"/content/hw3/data/tst2013.vi\" [1]\n",
            "2021-02-23 03:10:45 URL:https://nlp.stanford.edu/projects/nmt/data/iwslt15.en-vi/vocab.en [139741/139741] -> \"/content/hw3/data/vocab.en\" [1]\n",
            "2021-02-23 03:10:46 URL:https://nlp.stanford.edu/projects/nmt/data/iwslt15.en-vi/vocab.vi [46767/46767] -> \"/content/hw3/data/vocab.vi\" [1]\n"
          ],
          "name": "stdout"
        }
      ]
    },
    {
      "cell_type": "markdown",
      "metadata": {
        "id": "lqPw7tvQDIAd"
      },
      "source": [
        "### Load the Data and Preprocess\n",
        "We then load the sentences and vocab lists, only keeping sentences that do not exceed 48 words (50 with the EOS tags)."
      ]
    },
    {
      "cell_type": "code",
      "metadata": {
        "colab": {
          "base_uri": "https://localhost:8080/",
          "height": 467
        },
        "id": "Bah0S5rKTDT9",
        "outputId": "bf8d9d8d-a3b1-4033-f3cd-257017df6c24"
      },
      "source": [
        "from lab_utils import read_vocab_file, read_sentence_file, filter_data, show_some_data_stats\n",
        "\n",
        "src_vocab_set = read_vocab_file(\"vocab.vi\")\n",
        "trg_vocab_set = read_vocab_file(\"vocab.en\")\n",
        "\n",
        "train_src_sentences_list = read_sentence_file(\"train.vi\")\n",
        "train_trg_sentences_list = read_sentence_file(\"train.en\")\n",
        "assert len(train_src_sentences_list) == len(train_trg_sentences_list)\n",
        "\n",
        "test_src_sentences_list = read_sentence_file(\"tst2013.vi\")\n",
        "test_trg_sentences_list = read_sentence_file(\"tst2013.en\")\n",
        "assert len(test_src_sentences_list) == len(test_trg_sentences_list)\n",
        "\n",
        "# Filter out sentences over 48 words long\n",
        "MAX_SENT_LENGTH = 48\n",
        "MAX_SENT_LENGTH_PLUS_SOS_EOS = 50\n",
        "\n",
        "train_src_sentences_list, train_trg_sentences_list = filter_data(\n",
        "    train_src_sentences_list, train_trg_sentences_list, MAX_SENT_LENGTH)\n",
        "test_src_sentences_list, test_trg_sentences_list = filter_data(\n",
        "    test_src_sentences_list, test_trg_sentences_list, MAX_SENT_LENGTH)\n",
        "\n",
        "# We take 10% of training data as validation set.\n",
        "num_val = int(len(train_src_sentences_list) * 0.1)\n",
        "val_src_sentences_list = train_src_sentences_list[:num_val]\n",
        "val_trg_sentences_list = train_trg_sentences_list[:num_val]\n",
        "train_src_sentences_list = train_src_sentences_list[num_val:]\n",
        "train_trg_sentences_list = train_trg_sentences_list[num_val:]\n",
        "\n",
        "show_some_data_stats(train_src_sentences_list, val_src_sentences_list, \n",
        "                     test_src_sentences_list, train_trg_sentences_list,\n",
        "                     src_vocab_set, trg_vocab_set)"
      ],
      "execution_count": 144,
      "outputs": [
        {
          "output_type": "stream",
          "text": [
            "Number of training (src, trg) sentence pairs: 108748\n",
            "Number of validation (src, trg) sentence pairs: 12083\n",
            "Number of testing (src, trg) sentence pairs: 1139\n",
            "Size of en vocab set (including '<pad>', '<unk>', '<s>', '</s>'): 7710\n",
            "Size of vi vocab set (including '<pad>', '<unk>', '<s>', '</s>'): 17192\n",
            "Training sentence avg. length: 20 \n",
            "Training sentence length at 95-percentile: 42\n",
            "Training sentence length distribution (x-axis is length range and y-axis is count):\n",
            "\n"
          ],
          "name": "stdout"
        },
        {
          "output_type": "display_data",
          "data": {
            "image/png": "[encoded data removed]",
            "text/plain": [
              "<Figure size 432x288 with 1 Axes>"
            ]
          },
          "metadata": {
            "tags": [],
            "needs_background": "light"
          }
        },
        {
          "output_type": "stream",
          "text": [
            "Example Vietnamese input: ['Adam', 'Sadowsky', 'dàn', 'dựng', '1', 'video', 'âm', 'nhạc', 'hiện', 'tượng', '.']\n",
            "Its target English output: ['Adam', 'Sadowsky', ':', 'How', 'to', 'engineer', 'a', 'viral', 'music', 'video']\n"
          ],
          "name": "stdout"
        }
      ]
    },
    {
      "cell_type": "markdown",
      "metadata": {
        "id": "gAk-fj8GEdOj"
      },
      "source": [
        "## **Section 2: Encoder**"
      ]
    },
    {
      "cell_type": "markdown",
      "metadata": {
        "id": "yfutdpgxrxa5"
      },
      "source": [
        "First, here is the Dataset. The IDs that we reserve might be useful later."
      ]
    },
    {
      "cell_type": "code",
      "metadata": {
        "id": "DOjSiD3urw_R"
      },
      "source": [
        "import torch\n",
        "from torch.utils import data\n",
        "\n",
        "# These IDs are reserved.\n",
        "##TODO ABBY __ OFF BY ONE ERROR< ADD PAD TO VOCABS! LINE ZEOR\n",
        "PAD_INDEX = 0\n",
        "UNK_INDEX = 1\n",
        "SOS_INDEX = 2\n",
        "EOS_INDEX = 3\n",
        "\n",
        "\n",
        "class MTDataset(data.Dataset):\n",
        "  def __init__(self, src_sentences, src_vocabs, trg_sentences, trg_vocabs,\n",
        "               sampling=1.):\n",
        "    self.src_sentences = src_sentences[:int(len(src_sentences) * sampling)]\n",
        "    self.trg_sentences = trg_sentences[:int(len(src_sentences) * sampling)]\n",
        "\n",
        "    self.max_src_seq_length = MAX_SENT_LENGTH_PLUS_SOS_EOS\n",
        "    self.max_trg_seq_length = MAX_SENT_LENGTH_PLUS_SOS_EOS\n",
        "\n",
        "    self.src_vocabs = src_vocabs\n",
        "    self.trg_vocabs = trg_vocabs\n",
        "\n",
        "    self.src_v2id = {v : i for i, v in enumerate(src_vocabs)}\n",
        "    self.src_id2v = {val : key for key, val in self.src_v2id.items()}\n",
        "    self.trg_v2id = {v : i for i, v in enumerate(trg_vocabs)}\n",
        "    self.trg_id2v = {val : key for key, val in self.trg_v2id.items()}\n",
        "\n",
        "  def __len__(self):\n",
        "    return len(self.src_sentences)\n",
        "\n",
        "  def __getitem__(self, index):\n",
        "    src_sent = self.src_sentences[index]\n",
        "    src_len = len(src_sent) + 2   # add <s> and </s> to each sentence\n",
        "    src_id = []\n",
        "    for w in src_sent:\n",
        "      if w not in self.src_vocabs:\n",
        "        w = '<unk>'\n",
        "      src_id.append(self.src_v2id[w])\n",
        "    src_id = ([SOS_INDEX] + src_id + [EOS_INDEX] + [PAD_INDEX] *\n",
        "              (self.max_src_seq_length - src_len))\n",
        "\n",
        "    trg_sent = self.trg_sentences[index]\n",
        "    trg_len = len(trg_sent) + 2\n",
        "    trg_id = []\n",
        "    for w in trg_sent:\n",
        "      if w not in self.trg_vocabs:\n",
        "        w = '<unk>'\n",
        "      trg_id.append(self.trg_v2id[w])\n",
        "    trg_id = ([SOS_INDEX] + trg_id + [EOS_INDEX] + [PAD_INDEX] *\n",
        "              (self.max_trg_seq_length - trg_len))\n",
        "\n",
        "    return torch.tensor(src_id), src_len, torch.tensor(trg_id), trg_len"
      ],
      "execution_count": 145,
      "outputs": []
    },
    {
      "cell_type": "markdown",
      "metadata": {
        "id": "kzQu_1Y5sZEb"
      },
      "source": [
        "\n",
        "Seq2seq consists of an Encoder RNN and a Decoder RNN. In a vanilla seq2seq model where there is no attention mechanism between encoder and decoder, the encoder aims to compress the information contained in the entire input sequence into a single vector and pass it to decoder.\n",
        "\n",
        "We start with implementing the encoder, which is just a simple RNN. We use a GRU here, but feel free to try other cell types."
      ]
    },
    {
      "cell_type": "code",
      "metadata": {
        "id": "YZ3rJ1TlElu5"
      },
      "source": [
        "import torch.nn as nn\n",
        "import torch.nn.functional as F\n",
        "from torch.nn.utils.rnn import pack_padded_sequence, pad_packed_sequence\n",
        "\n",
        "\n",
        "class Encoder(nn.Module):\n",
        "  def __init__(self, input_size, hidden_size, dropout=0.):\n",
        "    \"\"\"\n",
        "    Inputs: \n",
        "      - `input_size`: an int representing the RNN input size.\n",
        "      - `hidden_size`: an int representing the RNN hidden size.\n",
        "      - `dropout`: a float representing the dropout rate during training. Note\n",
        "          that for 1-layer RNN this has no effect since dropout only applies to\n",
        "          outputs of intermediate layers.\n",
        "    \"\"\"\n",
        "    \n",
        "    super(Encoder, self).__init__()\n",
        "\n",
        "    self.rnn = nn.GRU(input_size, hidden_size, num_layers=1, batch_first=True,\n",
        "                      dropout=dropout, bidirectional=False)\n",
        "\n",
        "  def forward(self, inputs, lengths):\n",
        "    \"\"\"\n",
        "    Inputs:\n",
        "      - `inputs`: a 3d-tensor of shape (batch_size, max_seq_length, embed_size)\n",
        "          representing a batch of padded embedded word vectors of source\n",
        "          sentences.\n",
        "      - `lengths`: a 1d-tensor of shape (batch_size,) representing the sequence\n",
        "          lengths of `inputs`.\n",
        "\n",
        "    Returns:\n",
        "      - `outputs`: a 3d-tensor of shape\n",
        "        (batch_size, max_seq_length, hidden_size).\n",
        "      - `finals`: a 3d-tensor of shape (num_layers, batch_size, hidden_size).\n",
        "      Hint: `outputs` and `finals` are both standard GRU outputs. Check:\n",
        "      https://pytorch.org/docs/stable/nn.html#gru\n",
        "    \"\"\"\n",
        "    outputs = None\n",
        "    finals = None\n",
        "    \n",
        "    # --------- Your code here --------- #\n",
        "    packed = pack_padded_sequence(inputs, lengths.cpu(), batch_first=True,\n",
        "                                  enforce_sorted=False)\n",
        "    outputs, finals = self.rnn(packed)\n",
        "    outputs, _ = pad_packed_sequence(outputs, batch_first=True,\n",
        "                                     total_length=MAX_SENT_LENGTH_PLUS_SOS_EOS)\n",
        "    # --------- Your code ends --------- #\n",
        "\n",
        "    return outputs, finals"
      ],
      "execution_count": 146,
      "outputs": []
    },
    {
      "cell_type": "markdown",
      "metadata": {
        "id": "nCTTreYNFMja"
      },
      "source": [
        "## **Section 3: Decoder**\n",
        "\n",
        "Here you will implement a decoder RNN that uses encoder's last hidden state to initialize its initial hidden state."
      ]
    },
    {
      "cell_type": "code",
      "metadata": {
        "id": "9ZnDk1j9FNOH"
      },
      "source": [
        "class Decoder(nn.Module):\n",
        "  \"\"\"An RNN decoder without attention.\"\"\"\n",
        "\n",
        "  def __init__(self, input_size, hidden_size, dropout=0.):\n",
        "    \"\"\"\n",
        "      Inputs:\n",
        "        - `input_size`, `hidden_size`, and `dropout` the same as in Encoder.\n",
        "    \"\"\"\n",
        "    super(Decoder, self).__init__()\n",
        "\n",
        "    # --------- Your code here --------- #\n",
        "    self.rnn = nn.GRU(input_size, hidden_size, batch_first=True,\n",
        "                      dropout=dropout)\n",
        "\n",
        "    # To initialize from the final encoder state.\n",
        "    self.bridge = nn.Linear(hidden_size, hidden_size, bias=True)\n",
        "\n",
        "    self.dropout_layer = nn.Dropout(p=dropout)\n",
        "    self.pre_output_layer = nn.Linear(hidden_size + input_size, hidden_size,\n",
        "                                      bias=False)\n",
        "    # --------- Your code ends --------- #\n",
        "\n",
        "  def forward_step(self, prev_embed, hidden):\n",
        "    \"\"\"Perform a single decoder step (1 word).\"\"\"\n",
        "\n",
        "    # Update RNN hidden state.\n",
        "    output, hidden = self.rnn(prev_embed, hidden)\n",
        "\n",
        "    pre_output = torch.cat([prev_embed, output], dim=2)\n",
        "\n",
        "    pre_output = self.dropout_layer(pre_output)\n",
        "    pre_output = self.pre_output_layer(pre_output)\n",
        "\n",
        "    return output, hidden, pre_output\n",
        "\n",
        "  def forward(self, inputs, encoder_finals, hidden=None, max_len=None):\n",
        "    \"\"\"Unroll the decoder one step at a time.\n",
        "\n",
        "    Inputs:\n",
        "      - `inputs`: a 3d-tensor of shape (batch_size, max_seq_length, embed_size)\n",
        "          representing a batch of padded embedded word vectors of target\n",
        "          sentences (for teacher-forcing during training).\n",
        "      - `encoder_finals`: a 3d-tensor of shape\n",
        "          (num_enc_layers, batch_size, hidden_size) representing the final\n",
        "          encoder hidden states used to initialize the initial decoder hidden\n",
        "          states.\n",
        "      - `hidden`: a 3d-tensor of shape (1, batch_size, hidden_size) representing\n",
        "          the value to be used to initialize the initial decoder hidden states.\n",
        "          If None, then use `encoder_finals`.\n",
        "      - `max_len`: an int representing the maximum decoding length.\n",
        "\n",
        "    Returns:\n",
        "      - `outputs`: a 3d-tensor of shape\n",
        "          (batch_size, max_seq_length, hidden_size) representing the raw\n",
        "          decoder outputs (before converting to a `trg_vocab_size`-dim vector).\n",
        "          We will convert it later in a `Generator` below.\n",
        "      - `hidden`: a 3d-tensor of shape (1, batch_size, hidden_size)\n",
        "          representing the last decoder hidden state.\n",
        "    \"\"\"\n",
        "\n",
        "    # The maximum number of steps to unroll the RNN.\n",
        "    if max_len is None:\n",
        "      max_len = inputs.size(1)\n",
        "\n",
        "    # Initialize decoder hidden state.\n",
        "    if hidden is None:\n",
        "      hidden = self.init_hidden(encoder_finals)\n",
        "\n",
        "    outputs = None\n",
        "    \n",
        "    # --------- Your code ends --------- #\n",
        "    # Here we store all intermediate hidden states and pre-output vectors.\n",
        "    decoder_states = []\n",
        "    pre_output_vectors = []\n",
        "\n",
        "    # Unroll the decoder RNN for `max_len` steps.\n",
        "    for i in range(max_len):\n",
        "      prev_embed = inputs[:, i].unsqueeze(1)\n",
        "      output, hidden, pre_output = self.forward_step(prev_embed, hidden)\n",
        "      decoder_states.append(output)\n",
        "      pre_output_vectors.append(pre_output)\n",
        "\n",
        "    decoder_states = torch.cat(decoder_states, dim=1)\n",
        "    outputs = torch.cat(pre_output_vectors, dim=1)\n",
        "    # --------- Your code ends --------- #\n",
        "\n",
        "    return hidden, outputs\n",
        "\n",
        "  def init_hidden(self, encoder_finals):\n",
        "    \"\"\"Use encoder final hidden state to initialize decoder's first hidden\n",
        "    state.\"\"\"\n",
        "    decoder_init_hiddens = None\n",
        "\n",
        "    # --------- Your code here (hint: only one line needed) --------- #\n",
        "    decoder_init_hiddens = torch.tanh(self.bridge(encoder_finals))\n",
        "    # --------- Your code ends --------- #\n",
        "\n",
        "    return decoder_init_hiddens"
      ],
      "execution_count": 147,
      "outputs": []
    },
    {
      "cell_type": "markdown",
      "metadata": {
        "id": "7rZKppmtF6rr"
      },
      "source": [
        "Define the high level encoder-decoder class to wrap up sub-models, including encoder, decoder, generator, and src/trg embeddings."
      ]
    },
    {
      "cell_type": "code",
      "metadata": {
        "id": "cPmfDZ2fF7jy"
      },
      "source": [
        "class EncoderDecoder(nn.Module):\n",
        "  \"\"\"A standard Encoder-Decoder architecture without attention.\n",
        "  \"\"\"\n",
        "  def __init__(self, encoder, decoder, src_embed, trg_embed, generator):\n",
        "    \"\"\"\n",
        "    Inputs:\n",
        "      - `encoder`: an `Encoder` object.\n",
        "      - `decoder`: a `Decoder` object.\n",
        "      - `src_embed`: an nn.Embedding object representing the lookup table for\n",
        "          input (source) sentences.\n",
        "      - `trg_embed`: an nn.Embedding object representing the lookup table for\n",
        "          output (target) sentences.\n",
        "      - `generator`: a `Generator` object. Essentially a linear mapping. See\n",
        "          the next code cell.\n",
        "    \"\"\"\n",
        "    super(EncoderDecoder, self).__init__()\n",
        "\n",
        "    self.encoder = encoder\n",
        "    self.decoder = decoder\n",
        "    self.src_embed = src_embed\n",
        "    self.trg_embed = trg_embed\n",
        "    self.generator = generator\n",
        "\n",
        "  def forward(self, src_ids, trg_ids, src_lengths):\n",
        "    \"\"\"Take in and process masked source and target sequences.\n",
        "\n",
        "    Inputs:\n",
        "      `src_ids`: a 2d-tensor of shape (batch_size, max_seq_length) representing\n",
        "        a batch of source sentences of word ids.\n",
        "      `trg_ids`: a 2d-tensor of shape (batch_size, max_seq_length) representing\n",
        "        a batch of target sentences of word ids.\n",
        "      `src_lengths`: a 1d-tensor of shape (batch_size,) representing the\n",
        "        sequence length of `src_ids`.\n",
        "\n",
        "    Returns the decoder outputs, see the above cell.\n",
        "    \"\"\"\n",
        "    encoder_hiddens, encoder_finals = self.encode(src_ids, src_lengths)\n",
        "    del encoder_hiddens   # unused\n",
        "    return self.decode(encoder_finals, trg_ids[:, :-1])\n",
        "\n",
        "  def encode(self, src_ids, src_lengths):\n",
        "    return self.encoder(self.src_embed(src_ids), src_lengths)\n",
        "    \n",
        "  def decode(self, encoder_finals, trg_ids, decoder_hidden=None):\n",
        "    return self.decoder(self.trg_embed(trg_ids), encoder_finals, decoder_hidden)"
      ],
      "execution_count": 148,
      "outputs": []
    },
    {
      "cell_type": "markdown",
      "metadata": {
        "id": "kWKrjqzqGA-F"
      },
      "source": [
        "It simply projects the pre-output layer (x in the forward function below) to obtain the output layer, so that the final dimension is the target vocabulary size."
      ]
    },
    {
      "cell_type": "code",
      "metadata": {
        "id": "T43dUgwLGBnI"
      },
      "source": [
        "class Generator(nn.Module):\n",
        "  \"\"\"Define standard linear + softmax generation step.\"\"\"\n",
        "  def __init__(self, hidden_size, vocab_size):\n",
        "    super(Generator, self).__init__()\n",
        "    self.proj = nn.Linear(hidden_size, vocab_size, bias=False)\n",
        "\n",
        "  def forward(self, x):\n",
        "    return F.log_softmax(self.proj(x), dim=-1)"
      ],
      "execution_count": 149,
      "outputs": []
    },
    {
      "cell_type": "markdown",
      "metadata": {
        "id": "wvEjGmojGD0-"
      },
      "source": [
        "## **Section 4: Attention-Based Decoder**\n",
        "\n",
        "Now it's time to add some attention to the decoder. We make the classes again.\n"
      ]
    },
    {
      "cell_type": "code",
      "metadata": {
        "id": "MR5luqfmGIJ8"
      },
      "source": [
        "class AttentionDecoder(nn.Module):\n",
        "  \"\"\"An attention-based RNN decoder.\"\"\"\n",
        "\n",
        "  def __init__(self, input_size, hidden_size, attention=None, dropout=0.):\n",
        "    \"\"\"\n",
        "      Inputs:\n",
        "        - `input_size`, `hidden_size`, and `dropout` the same as in Encoder.\n",
        "        - `attention`: this is your self-defined Attention object. You can\n",
        "            either define an individual class for your Attention and pass it\n",
        "            here or leave `attention` as None and just implement everything\n",
        "            here.\n",
        "    \"\"\"\n",
        "    super(AttentionDecoder, self).__init__()\n",
        "\n",
        "    # --------- Your code ends --------- #\n",
        "    self.attention = attention\n",
        "\n",
        "    self.rnn = nn.GRU(input_size + hidden_size, hidden_size, batch_first=True,\n",
        "                      dropout=dropout)\n",
        "\n",
        "    # To initialize from the final encoder state.\n",
        "    self.bridge = nn.Linear(hidden_size, hidden_size, bias=True)\n",
        "\n",
        "    self.dropout_layer = nn.Dropout(p=dropout)\n",
        "    self.pre_output_layer = nn.Linear(hidden_size + hidden_size + input_size,\n",
        "                                      hidden_size, bias=False)\n",
        "    # --------- Your code ends --------- #\n",
        "\n",
        "  ## START ANSWER // PART OF ANSWER BELOW\n",
        "  def forward_step(self, prev_embed, encoder_hidden, src_mask, proj_key,\n",
        "                   hidden):\n",
        "    \"\"\"Perform a single decoder step (1 word)\"\"\"\n",
        "\n",
        "    # Compute context vector using attention mechanism.\n",
        "    query = hidden[-1].unsqueeze(1)\n",
        "\n",
        "    context, attn_probs = self.attention(query=query, proj_key=proj_key,\n",
        "                                         value=encoder_hidden, mask=src_mask)\n",
        "\n",
        "    # Update RNN hidden state.\n",
        "    rnn_input = torch.cat([prev_embed, context], dim=2)\n",
        "    output, hidden = self.rnn(rnn_input, hidden)\n",
        "\n",
        "    pre_output = torch.cat([prev_embed, output, context], dim=2)\n",
        "\n",
        "    pre_output = self.dropout_layer(pre_output)\n",
        "    pre_output = self.pre_output_layer(pre_output)\n",
        "\n",
        "    return output, hidden, pre_output\n",
        "  ## END ANSWER\n",
        "\n",
        "  def forward(self, inputs, encoder_hiddens, encoder_finals,  src_mask,\n",
        "              trg_mask, hidden=None, max_len=None):\n",
        "    \"\"\"Unroll the decoder one step at a time.\n",
        "    \n",
        "    Inputs:\n",
        "      - `inputs`: a 3d-tensor of shape (batch_size, max_seq_length, embed_size)\n",
        "          representing a batch of padded embedded word vectors of target\n",
        "          sentences (for teacher-forcing during training).\n",
        "      - `encoder_hiddens`: a 3d-tensor of shape\n",
        "          (batch_size, max_seq_length, hidden_size) representing the encoder\n",
        "          outputs for each decoding step to attend to. \n",
        "      - `encoder_finals`: a 3d-tensor of shape\n",
        "          (num_enc_layers, batch_size, hidden_size) representing the final\n",
        "          encoder hidden states used to initialize the initial decoder hidden\n",
        "          states.\n",
        "      - `src_mask`: a 3d-tensor of shape (batch_size, 1, max_seq_length)\n",
        "          representing the mask for source sentences.\n",
        "      - `trg_mask`: a 3d-tensor of shape (batch_size, 1, max_seq_length)\n",
        "          representing the mask for target sentences.\n",
        "      - `hidden`: a 3d-tensor of shape (1, batch_size, hidden_size) representing\n",
        "          the value to be used to initialize the initial decoder hidden states.\n",
        "          If None, then use `encoder_finals`.\n",
        "      - `max_len`: an int representing the maximum decoding length.\n",
        "\n",
        "    Returns:\n",
        "      - `outputs`: (same as in Decoder) a 3d-tensor of shape\n",
        "          (batch_size, max_seq_length, hidden_size) representing the raw\n",
        "          decoder outputs (before converting to a `trg_vocab_size`-dim vector).\n",
        "      - `hidden`: a 3d-tensor of shape (1, batch_size, hidden_size)\n",
        "          representing the last decoder hidden state.\n",
        "    \"\"\"\n",
        "\n",
        "    # The maximum number of steps to unroll the RNN.\n",
        "    if max_len is None:\n",
        "      max_len = trg_mask.size(-1)\n",
        "\n",
        "    if hidden is None:\n",
        "      hidden = self.init_hidden(encoder_finals)\n",
        "\n",
        "    outputs = None\n",
        "    \n",
        "    # --------- Your code here --------- #\n",
        "    # Pre-compute projected encoder hidden states (the \"keys\" for the attention\n",
        "    # mechanism). This is only done for efficiency.\n",
        "    proj_key = self.attention.key_layer(encoder_hiddens)\n",
        "\n",
        "    # Here we store all intermediate hidden states and pre-output vectors.\n",
        "    decoder_states = []\n",
        "    pre_output_vectors = []\n",
        "\n",
        "    # Unroll the decoder RNN for `max_len` steps.\n",
        "    for i in range(max_len):\n",
        "      prev_embed = inputs[:, i].unsqueeze(1)\n",
        "      output, hidden, pre_output = self.forward_step(prev_embed,\n",
        "                                                     encoder_hiddens, src_mask,\n",
        "                                                     proj_key, hidden)\n",
        "      decoder_states.append(output)\n",
        "      pre_output_vectors.append(pre_output)\n",
        "\n",
        "    decoder_states = torch.cat(decoder_states, dim=1)\n",
        "    outputs = torch.cat(pre_output_vectors, dim=1)\n",
        "    # --------- Your code ends --------- #\n",
        "\n",
        "    return hidden, outputs\n",
        "\n",
        "  def init_hidden(self, encoder_finals):\n",
        "    \"\"\"Use encoder final hidden state to initialize decoder's first hidden\n",
        "    state.\"\"\"\n",
        "    decoder_init_hiddens = None\n",
        "    # --------- Your code here --------- #\n",
        "    decoder_init_hiddens = torch.tanh(self.bridge(encoder_finals))\n",
        "    # --------- Your code ends --------- #\n",
        "\n",
        "    return decoder_init_hiddens"
      ],
      "execution_count": 150,
      "outputs": []
    },
    {
      "cell_type": "markdown",
      "metadata": {
        "id": "_Yz2FU1DG57j"
      },
      "source": [
        "Similarly, we use a `EncoderAttentionDecoder` class to wrap up all encoder, decoder, src/trg embeddings, and generator. You can take the `EncoderDecoder` class as a reference."
      ]
    },
    {
      "cell_type": "code",
      "metadata": {
        "id": "CR85lqb1G71e"
      },
      "source": [
        "class EncoderAttentionDecoder(nn.Module):\n",
        "  \"\"\"A Encoder-Decoder architecture with attention.\n",
        "  \"\"\"\n",
        "  def __init__(self, encoder, decoder, src_embed , trg_embed, generator):\n",
        "    \"\"\"\n",
        "    Inputs:\n",
        "      - `encoder`: an `Encoder` object.\n",
        "      - `decoder`: an `AttentionDecoder` object.\n",
        "      - `src_embed`: an nn.Embedding object representing the lookup table for\n",
        "          input (source) sentences.\n",
        "      - `trg_embed`: an nn.Embedding object representing the lookup table for\n",
        "          output (target) sentences.\n",
        "      - `generator`: a `Generator` object. Essentially a linear mapping. See\n",
        "          the next code cell.\n",
        "    \"\"\"\n",
        "    super(EncoderAttentionDecoder, self).__init__()\n",
        "\n",
        "    self.encoder = encoder\n",
        "    self.decoder = decoder\n",
        "    self.src_embed = src_embed\n",
        "    self.trg_embed = trg_embed\n",
        "    self.generator = generator\n",
        "\n",
        "  def forward(self, src_ids, trg_ids, src_lengths):\n",
        "    \"\"\"Take in and process masked source and tar get sequences.\n",
        "\n",
        "    Inputs:\n",
        "      `src_ids`: a 2d-tensor of shape (batch_size, max_seq_length) representing\n",
        "        a batch of source sentences of word ids.\n",
        "      `trg_ids`: a 2d-tensor of shape (batch_size, max_seq_length) representing\n",
        "        a batch of target sentences of word ids.\n",
        "      `src_lengths`: a 1d-tensor of shape (batch_size,) representing the\n",
        "        sequence length of `src_ids`.\n",
        "\n",
        "    Returns the decoder outputs, see the above cell.\n",
        "    \"\"\"\n",
        "    # --------- Your code here --------- #\n",
        "    # Hint: You can refer to `EncoderDecoder` and extend from it.\n",
        "    encoder_hiddens, encoder_finals = self.encode(src_ids, src_lengths)\n",
        "    src_mask = (src_ids != PAD_INDEX).unsqueeze(-2)\n",
        "    trg_mask = (trg_ids[:, 1:] != PAD_INDEX).unsqueeze(-2)\n",
        "    return self.decode(encoder_hiddens, encoder_finals, src_mask,\n",
        "                       trg_ids[:, :-1], trg_mask)\n",
        "\n",
        "  def encode(self, src_ids, src_lengths):\n",
        "    return self.encoder(self.src_embed(src_ids), src_lengths)\n",
        "\n",
        "  def decode(self, encoder_hiddens, encoder_finals, src_mask, trg_ids,\n",
        "             trg_mask, decoder_hidden=None):\n",
        "    return self.decoder(self.trg_embed(trg_ids), encoder_hiddens,\n",
        "                        encoder_finals, src_mask, trg_mask, decoder_hidden)\n",
        "  # --------- Your code ends --------- #"
      ],
      "execution_count": 151,
      "outputs": []
    },
    {
      "cell_type": "markdown",
      "metadata": {
        "id": "0Hz_Vw7CHVCy"
      },
      "source": [
        "Attention layer plays a key role in seq2seq models. It allows for capturing the dependencies without the distance constraints in the input or output sequences. In this lab, your goal is to implement the Bahdanau attention mechanisms. "
      ]
    },
    {
      "cell_type": "code",
      "metadata": {
        "id": "D0WxyImrHTUQ"
      },
      "source": [
        "class BahdanauAttention(nn.Module):\n",
        "  \"\"\"Implements Bahdanau (MLP) attention.\"\"\"\n",
        "\n",
        "  def __init__(self, hidden_size, key_size=None, query_size=None):\n",
        "    super(BahdanauAttention, self).__init__()\n",
        "\n",
        "    # --------- Your code here --------- #\n",
        "    key_size = hidden_size if key_size is None else key_size\n",
        "    query_size = hidden_size if query_size is None else query_size\n",
        "\n",
        "    self.key_layer = nn.Linear(key_size, hidden_size, bias=False)\n",
        "    self.query_layer = nn.Linear(query_size, hidden_size, bias=False)\n",
        "    self.energy_layer = nn.Linear(hidden_size, 1, bias=False)\n",
        "\n",
        "    # To store attention scores.\n",
        "    self.alphas = None\n",
        "    # --------- Your code ends --------- #\n",
        "        \n",
        "  def forward(self, query=None, proj_key=None, value=None, mask=None):\n",
        "    assert mask is not None, \"mask is required\"\n",
        "\n",
        "    # --------- Your code here --------- #\n",
        "\n",
        "    # We first project the query (the decoder state).\n",
        "    # The projected keys (the encoder states) were already pre-computated.\n",
        "    query = self.query_layer(query)\n",
        "\n",
        "    # Calculate scores.\n",
        "    scores = self.energy_layer(torch.tanh(query + proj_key))\n",
        "    scores = scores.squeeze(2).unsqueeze(1)\n",
        "\n",
        "    # Mask out invalid positions.\n",
        "    # The mask marks valid positions so we invert it using `mask & 0`.\n",
        "    scores.data.masked_fill_(mask == 0, -float('inf'))\n",
        "\n",
        "    # Turn scores to probabilities.\n",
        "    alphas = F.softmax(scores, dim=-1)\n",
        "    self.alphas = alphas        \n",
        "\n",
        "    # The context vector is the weighted sum of the values.\n",
        "    context = torch.bmm(alphas, value)\n",
        "\n",
        "    # context shape: [B, 1, 2D], alphas shape: [B, 1, M]\n",
        "    return context, alphas\n",
        "    # --------- Your code ends --------- #"
      ],
      "execution_count": 152,
      "outputs": []
    },
    {
      "cell_type": "markdown",
      "metadata": {
        "id": "FdfQQaXgHcX_"
      },
      "source": [
        "## **Section 5: Training**\n",
        "\n",
        "We provide training and testing scripts here. You might need to adapt them to fit your model implementation."
      ]
    },
    {
      "cell_type": "markdown",
      "metadata": {
        "id": "IcaY3sxDHkdq"
      },
      "source": [
        "Apply the dataloader to the MTDataset, which is defined in `lab_utils.py`. Dataloader provides a convenient way to iterate through the whole dataset.\n",
        "\n",
        "\n"
      ]
    },
    {
      "cell_type": "code",
      "metadata": {
        "id": "kx_PXmw3HgXo"
      },
      "source": [
        "from lab_utils import MTDataset\n",
        "from torch.utils import data\n",
        "\n",
        "batch_size = 128\n",
        "\n",
        "# You can try on a smaller training set by setting a smaller `sampling`.\n",
        "train_set = MTDataset(train_src_sentences_list, src_vocab_set,\n",
        "                      train_trg_sentences_list, trg_vocab_set, sampling=1.)\n",
        "train_data_loader = data.DataLoader(train_set, batch_size=batch_size,\n",
        "                                    num_workers=8, shuffle=True)\n",
        "\n",
        "val_set = MTDataset(val_src_sentences_list, src_vocab_set,\n",
        "                    val_trg_sentences_list, trg_vocab_set, sampling=1.)\n",
        "val_data_loader = data.DataLoader(val_set, batch_size=batch_size, num_workers=8,\n",
        "                                  shuffle=False)"
      ],
      "execution_count": 153,
      "outputs": []
    },
    {
      "cell_type": "markdown",
      "metadata": {
        "id": "0PVjxBbyHr6p"
      },
      "source": [
        "The main functions for training, here we use perplexity to evaluate the performance of the model. Although we provide the training scripts here, we strongly encoureage you to go through and understand the procedure."
      ]
    },
    {
      "cell_type": "code",
      "metadata": {
        "id": "sIrMBzl7HswK"
      },
      "source": [
        "import math\n",
        "\n",
        "\n",
        "class SimpleLossCompute:\n",
        "  \"\"\"A simple loss compute and train function.\"\"\"\n",
        "\n",
        "  def __init__(self, generator, criterion, opt=None):\n",
        "    self.generator = generator\n",
        "    self.criterion = criterion\n",
        "    self.opt = opt\n",
        "\n",
        "  def __call__(self, x, y, norm):\n",
        "    x = self.generator(x)\n",
        "    loss = self.criterion(x.contiguous().view(-1, x.size(-1)),\n",
        "                          y.contiguous().view(-1))\n",
        "    loss = loss / norm\n",
        "\n",
        "    if self.opt is not None:  # training mode\n",
        "      loss.backward()          \n",
        "      self.opt.step()\n",
        "      self.opt.zero_grad()\n",
        "\n",
        "    return loss.data.item() * norm\n",
        "\n",
        "\n",
        "def run_epoch(data_loader, model, loss_compute, print_every):\n",
        "  \"\"\"Standard Training and Logging Function\"\"\"\n",
        "\n",
        "  total_tokens = 0\n",
        "  total_loss = 0\n",
        "\n",
        "  for i, (src_ids_BxT, src_lengths_B, trg_ids_BxL, trg_lengths_B) in enumerate(data_loader):\n",
        "    # We define some notations here to help you understand the loaded tensor\n",
        "    # shapes:\n",
        "    #   `B`: batch size\n",
        "    #   `T`: max sequence length of source sentences\n",
        "    #   `L`: max sequence length of target sentences; due to our preprocessing\n",
        "    #        in the beginning, `L` == `T` == 50\n",
        "    # An example of `src_ids_BxT` (when B = 2):\n",
        "    #   [[2, 4, 6, 7, ..., 4, 3, 0, 0, 0],\n",
        "    #    [2, 8, 6, 5, ..., 9, 5, 4, 3, 0]]\n",
        "    # The corresponding `src_lengths_B` would be [47, 49].\n",
        "    # Note that SOS_INDEX == 2, EOS_INDEX == 3, and PAD_INDEX = 0.\n",
        "\n",
        "    # ## Weird error with pytorch(https://github.com/pytorch/pytorch/issues/16542)\n",
        "    # torch.set_default_tensor_type(torch.FloatTensor)\n",
        "\n",
        "    src_ids_BxT = src_ids_BxT.to(device)\n",
        "    src_lengths_B = src_lengths_B.to(device)\n",
        "    trg_ids_BxL = trg_ids_BxL.to(device)\n",
        "\n",
        "    \n",
        "# padded_track_seq = pack_padded_sequence(sorted_tracks, sorted_n_tracks, batch_first=True, enforce_sorted=True)\n",
        "# if self.device == torch.device(\"cuda\"):\n",
        "#     torch.set_default_tensor_type(torch.cuda.FloatTensor)\n",
        "# padded_track_seq.to(self.device)\n",
        "\n",
        "\n",
        "    del trg_lengths_B   # unused\n",
        "\n",
        "    _, output = model(src_ids_BxT, trg_ids_BxL, src_lengths_B)\n",
        "\n",
        "    loss = loss_compute(x=output, y=trg_ids_BxL[:, 1:],\n",
        "                        norm=src_ids_BxT.size(0))\n",
        "    total_loss += loss\n",
        "    total_tokens += (trg_ids_BxL[:, 1:] != lab_utils.PAD_INDEX).data.sum().item()\n",
        "\n",
        "    if model.training and i % print_every == 0:\n",
        "      print(\"Epoch Step: %d Loss: %f\" % (i, loss / src_ids_BxT.size(0)))\n",
        "\n",
        "  return math.exp(total_loss / float(total_tokens))\n",
        "\n",
        "\n",
        "def train(model, num_epochs, learning_rate, print_every):\n",
        "  # Set `ignore_index` as PAD_INDEX so that pad tokens won't be included when\n",
        "  # computing the loss.\n",
        "  criterion = nn.NLLLoss(reduction=\"sum\", ignore_index=lab_utils.PAD_INDEX)\n",
        "  optim = torch.optim.Adam(model.parameters(), lr=learning_rate)\n",
        "\n",
        "  # Keep track of dev ppl for each epoch.\n",
        "  dev_ppls = []\n",
        "\n",
        "  for epoch in range(num_epochs):\n",
        "    print(\"Epoch\", epoch)\n",
        "\n",
        "    model.train()\n",
        "    train_ppl = run_epoch(data_loader=train_data_loader, model=model,\n",
        "                          loss_compute=SimpleLossCompute(model.generator,\n",
        "                                                         criterion, optim),\n",
        "                          print_every=print_every)\n",
        "        \n",
        "    model.eval()\n",
        "    with torch.no_grad():      \n",
        "      dev_ppl = run_epoch(data_loader=val_data_loader, model=model,\n",
        "                          loss_compute=SimpleLossCompute(model.generator,\n",
        "                                                         criterion, None),\n",
        "                          print_every=print_every)\n",
        "      print(\"Validation perplexity: %f\" % dev_ppl)\n",
        "      dev_ppls.append(dev_ppl)\n",
        "        \n",
        "  return dev_ppls"
      ],
      "execution_count": 154,
      "outputs": []
    },
    {
      "cell_type": "markdown",
      "metadata": {
        "id": "ZduMNu6GHyRn"
      },
      "source": [
        "The main function to perform training. First let's train the vanilla seq2seq model."
      ]
    },
    {
      "cell_type": "code",
      "metadata": {
        "colab": {
          "base_uri": "https://localhost:8080/",
          "height": 711
        },
        "id": "eE0h-FwcHzL5",
        "outputId": "c0de6df0-6e36-4a5f-ce60-7b15bdaaabe3"
      },
      "source": [
        "# Hyperparameters for contructing the encoder-decoder model.\n",
        "embed_size = 256   # Each word will be represented as a `embed_size`-dim vector.\n",
        "hidden_size = 256  # RNN hidden size.\n",
        "dropout = 0.2\n",
        "\n",
        "pure_seq2seq = EncoderDecoder(\n",
        "  encoder=Encoder(embed_size, hidden_size, dropout=dropout),\n",
        "  decoder=Decoder(embed_size, hidden_size, dropout=dropout),\n",
        "  src_embed=nn.Embedding(len(src_vocab_set), embed_size),\n",
        "  trg_embed=nn.Embedding(len(trg_vocab_set), embed_size),\n",
        "  generator=Generator(hidden_size, len(trg_vocab_set))).to(device)\n",
        "\n",
        "# Start training. The returned `dev_ppls` is a list of dev perplexity for each\n",
        "# epoch.\n",
        "#TODO@ABBY FIX THIS MAKE BIGGER WHEN NO DEBUG\n",
        "pure_dev_ppls = train(pure_seq2seq, num_epochs=2, learning_rate=1e-3,\n",
        "                      print_every=100)\n",
        "\n",
        "# Plot perplexity\n",
        "lab_utils.plot_perplexity(pure_dev_ppls)"
      ],
      "execution_count": 155,
      "outputs": [
        {
          "output_type": "stream",
          "text": [
            "Epoch 0\n"
          ],
          "name": "stdout"
        },
        {
          "output_type": "stream",
          "text": [
            "/usr/local/lib/python3.6/dist-packages/torch/nn/modules/rnn.py:61: UserWarning: dropout option adds dropout after all but last recurrent layer, so non-zero dropout expects num_layers greater than 1, but got dropout=0.2 and num_layers=1\n",
            "  \"num_layers={}\".format(dropout, num_layers))\n"
          ],
          "name": "stderr"
        },
        {
          "output_type": "stream",
          "text": [
            "Epoch Step: 0 Loss: 173.498230\n",
            "Epoch Step: 100 Loss: 88.926224\n",
            "Epoch Step: 200 Loss: 90.446068\n",
            "Epoch Step: 300 Loss: 79.464531\n",
            "Epoch Step: 400 Loss: 83.588844\n",
            "Epoch Step: 500 Loss: 80.984108\n",
            "Epoch Step: 600 Loss: 81.790985\n",
            "Epoch Step: 700 Loss: 72.918243\n",
            "Epoch Step: 800 Loss: 71.780922\n",
            "Validation perplexity: 71.275738\n",
            "Epoch 1\n",
            "Epoch Step: 0 Loss: 69.527634\n",
            "Epoch Step: 100 Loss: 71.573280\n",
            "Epoch Step: 200 Loss: 79.081505\n",
            "Epoch Step: 300 Loss: 71.394035\n",
            "Epoch Step: 400 Loss: 69.688110\n",
            "Epoch Step: 500 Loss: 65.221878\n",
            "Epoch Step: 600 Loss: 62.120903\n",
            "Epoch Step: 700 Loss: 69.616058\n",
            "Epoch Step: 800 Loss: 63.899509\n",
            "Validation perplexity: 52.244962\n"
          ],
          "name": "stdout"
        },
        {
          "output_type": "display_data",
          "data": {
            "image/png": "[encoded data removed]",
            "text/plain": [
              "<Figure size 432x288 with 1 Axes>"
            ]
          },
          "metadata": {
            "tags": [],
            "needs_background": "light"
          }
        }
      ]
    },
    {
      "cell_type": "markdown",
      "metadata": {
        "id": "kLs1c2hPH6wS"
      },
      "source": [
        "Now, let's train the seq2seq model with attention."
      ]
    },
    {
      "cell_type": "code",
      "metadata": {
        "id": "mQb1QXqJH8lf",
        "colab": {
          "base_uri": "https://localhost:8080/",
          "height": 530
        },
        "outputId": "1ef0fb64-d05c-4941-b9a0-3d4fa6140b1c"
      },
      "source": [
        "attn_seq2seq = EncoderAttentionDecoder(\n",
        "  encoder=Encoder(embed_size, hidden_size, dropout=dropout),\n",
        "  decoder=AttentionDecoder(embed_size, hidden_size,\n",
        "                  attention=BahdanauAttention(hidden_size), dropout=dropout),\n",
        "  src_embed=nn.Embedding(len(src_vocab_set), embed_size),\n",
        "  trg_embed=nn.Embedding(len(trg_vocab_set), embed_size),\n",
        "  generator=Generator(hidden_size, len(trg_vocab_set))).to(device)\n",
        "\n",
        "attn_dev_ppls = train(attn_seq2seq, num_epochs=1, learning_rate=1e-3,\n",
        "                      print_every=100)\n",
        "\n",
        "lab_utils.plot_perplexity(attn_dev_ppls)"
      ],
      "execution_count": 156,
      "outputs": [
        {
          "output_type": "stream",
          "text": [
            "Epoch 0\n"
          ],
          "name": "stdout"
        },
        {
          "output_type": "stream",
          "text": [
            "/usr/local/lib/python3.6/dist-packages/torch/nn/modules/rnn.py:61: UserWarning: dropout option adds dropout after all but last recurrent layer, so non-zero dropout expects num_layers greater than 1, but got dropout=0.2 and num_layers=1\n",
            "  \"num_layers={}\".format(dropout, num_layers))\n"
          ],
          "name": "stderr"
        },
        {
          "output_type": "stream",
          "text": [
            "Epoch Step: 0 Loss: 174.313354\n",
            "Epoch Step: 100 Loss: 97.797432\n",
            "Epoch Step: 200 Loss: 82.022820\n",
            "Epoch Step: 300 Loss: 82.155258\n",
            "Epoch Step: 400 Loss: 70.289207\n",
            "Epoch Step: 500 Loss: 67.859009\n",
            "Epoch Step: 600 Loss: 67.797462\n",
            "Epoch Step: 700 Loss: 70.868988\n",
            "Epoch Step: 800 Loss: 60.844482\n",
            "Validation perplexity: 32.377419\n"
          ],
          "name": "stdout"
        },
        {
          "output_type": "display_data",
          "data": {
            "image/png": "[encoded data removed]",
            "text/plain": [
              "<Figure size 432x288 with 1 Axes>"
            ]
          },
          "metadata": {
            "tags": [],
            "needs_background": "light"
          }
        }
      ]
    },
    {
      "cell_type": "markdown",
      "metadata": {
        "id": "WlAJiAeuH-H4"
      },
      "source": [
        "## Section 6: Decoding Algorithms\n",
        "\n",
        "Now that we have a trained model, the next task is to decode the model output. This is non-trivial. We will first implement a naive, greedy approach, and then we will investigate beam search. You are only required to implement decoding algorithms for the pure_seq2seq model, as a few implementation details will be different if you include Attention. \n",
        "\n",
        "1. greedy search\n",
        "2. beam search (6.864 only, optional for 6.806)"
      ]
    },
    {
      "cell_type": "markdown",
      "metadata": {
        "id": "DLMRgd8cMx1n"
      },
      "source": [
        "### Greedy Decode\n",
        "\n",
        "For greedy decoding, we will generate (or \"decode\") the target sentence by simply taking the argmax on each step of the decoder."
      ]
    },
    {
      "cell_type": "code",
      "metadata": {
        "id": "ABoDgeCmIAII"
      },
      "source": [
        "def greedy_decode(model, src_ids, src_lengths, max_len):\n",
        "  \"\"\"Greedily decode a sentence for EncoderDecoder. Make sure to chop off the \n",
        "     EOS token!\"\"\"\n",
        "\n",
        "  with torch.no_grad():\n",
        "    _, encoder_finals = model.encode(src_ids, src_lengths)\n",
        "    prev_y = torch.ones(1, 1).fill_(SOS_INDEX).type_as(src_ids)\n",
        "\n",
        "  output = []\n",
        "  hidden = None\n",
        "\n",
        "  # --------- Your code here --------- #\n",
        "  for i in range(max_len):\n",
        "    with torch.no_grad():\n",
        "      hidden, outputs = model.decode(encoder_finals, prev_y, hidden)\n",
        "      prob = model.generator(outputs[:, -1])\n",
        "\n",
        "    d, next_word = torch.max(prob, dim=1)\n",
        "    next_word = next_word.data.item()\n",
        "    output.append(next_word)\n",
        "    prev_y = torch.ones(1, 1).type_as(src_ids).fill_(next_word)\n",
        "\n",
        "  output = np.array(output)\n",
        "\n",
        "  # Cut off everything starting from </s>.\n",
        "  first_eos = np.where(output == EOS_INDEX)[0]\n",
        "  if len(first_eos) > 0:\n",
        "    output = output[:first_eos[0]]\n",
        "  # --------- Your code ends --------- #\n",
        "\n",
        "  return output\n"
      ],
      "execution_count": 157,
      "outputs": []
    },
    {
      "cell_type": "markdown",
      "metadata": {
        "id": "BskyqhTwICct"
      },
      "source": [
        "Print the top 3 examples from the data loader by applying the greedy decoder (using the validation dataset).\n",
        "\n",
        "\n"
      ]
    },
    {
      "cell_type": "code",
      "metadata": {
        "colab": {
          "base_uri": "https://localhost:8080/"
        },
        "id": "u1qGxjybIISL",
        "outputId": "5cd50c63-27bb-4cbc-87de-2e3314f13015"
      },
      "source": [
        "example_set = MTDataset(val_src_sentences_list, src_vocab_set,\n",
        "                        val_trg_sentences_list, trg_vocab_set)\n",
        "example_data_loader = data.DataLoader(example_set, batch_size=1, num_workers=1,\n",
        "                                      shuffle=False)\n",
        "\n",
        "\n",
        "lab_utils.print_examples(pure_seq2seq, src_vocab_set, trg_vocab_set,\n",
        "                         example_data_loader, greedy_decode)"
      ],
      "execution_count": 165,
      "outputs": [
        {
          "output_type": "stream",
          "text": [
            "Example #1\n",
            "Src :  \n",
            "Trg :  \n",
            "Pred:  The second of the next year is a very different way .\n",
            "\n",
            "Example #2\n",
            "Src :  Tôi muốn cho các bạn biết về sự to lớn của những nỗ lực khoa học đã góp phần làm nên các dòng tít bạn thường thấy trên báo .\n",
            "Trg :  I &apos;d like to talk to you today about the scale of the scientific effort that goes into making the headlines you see in the paper .\n",
            "Pred:  I want to tell you about the most important thing that you &apos;re talking about the most important thing to be the most important thing .\n",
            "\n",
            "Example #3\n",
            "Src :  Có những dòng trông như thế này khi bàn về biến đổi khí hậu , và như thế này khi nói về chất lượng không khí hay khói bụi .\n",
            "Trg :  <unk> that look like this when they have to do with climate change , and headlines that look like this when they have to do with air quality or smog .\n",
            "Pred:  There are the same thing that &apos;s going to be the right now , and it &apos;s not the same thing to do this , and it &apos;s the same thing to do it .\n",
            "\n"
          ],
          "name": "stdout"
        }
      ]
    },
    {
      "cell_type": "markdown",
      "metadata": {
        "id": "nlhc3gMAO965"
      },
      "source": [
        "### Beam Search Decode \n",
        "Greedy search is easy to implement and fast, but it might not return the optimal translation. We could also try an exhaustive search, but that might take a LONG time. Beam search allows us to constrain the hypothesis search space in a smart way, allowing for greater translation quality while still maintaining a semblance of efficiency.\n",
        "\n",
        "Students taking 6.806 are only required to do the basic, OG version. Those taking 6.864 must implement the OG version and also normalize by length.\n",
        "\n",
        "::sidenote\n",
        "Here's a relevant paper, 'Beam Search Strategies for Neural Machine Translation' [(Freitag and Al-Onaizan 2017)](https://arxiv.org/pdf/1702.01806.pdf) for some newer thoughts.\n"
      ]
    },
    {
      "cell_type": "markdown",
      "metadata": {
        "id": "UpI8daVnWhvF"
      },
      "source": [
        "#### OG Beam\n",
        "\n",
        "The original beam-search strategy finds a translation that approximately maximizes the conditional probability given by a specific model. It builds the translation from left-to-right and keeps a fixed number (beam) of translation candidates with the highest log-probability at each time step. For each end-of-sequence symbol that is selected among the highest scoring candidates the beam is reduced by one and the translation is stored into a final candidate list. When the beam is zero, it stops the search and picks the translation with the highest log-probability out of the final candidate list.\n",
        "\n",
        "[Hint: Beam Search with k=1 is the exact same thing as greedy search.]"
      ]
    },
    {
      "cell_type": "code",
      "metadata": {
        "id": "L0HQwrZ-Iys2",
        "colab": {
          "base_uri": "https://localhost:8080/"
        },
        "outputId": "8900f89b-6cb4-43f5-981f-bbc5f8293dc2"
      },
      "source": [
        "def og_beam_search(model, src_ids, src_lengths, max_len, beam_width=5):\n",
        "  \"\"\"Use beam search to decode a sentence for EncoderDecoder.\"\"\"\n",
        "\n",
        "  with torch.no_grad():\n",
        "    _, encoder_finals = model.encode(src_ids, src_lengths)\n",
        "    prev_y = torch.ones(1, 1).fill_(SOS_INDEX).type_as(src_ids)\n",
        "\n",
        "  output = None\n",
        "  # --------- Your code here --------- #\n",
        "\n",
        "  # keeps track of the top beam size hypotheses to expand for each element\n",
        "  # in the batch to be further decoded (that are still \"alive\")\n",
        "  new_sequences = [[[], None, prev_y, 0.0]]\n",
        "\n",
        "  # Give full probability to the first beam on the first step.\n",
        "  topk_log_probs = [float(\"-inf\") for _ in range(beam_width)]\n",
        "\n",
        "  # Structure that holds finished hypotheses.\n",
        "  hypotheses = [[] for _ in range(batch_size)]\n",
        "\n",
        "  hidden = None\n",
        "\n",
        "  # walk over each step in sequence\n",
        "  for i in range(max_len):\n",
        "    all_candidates = []\n",
        "    # go through each candidate\n",
        "    sequences = new_sequences[:]\n",
        "    for i in range(len(sequences)):\n",
        "      seq, hidden, prev_y, beam_log_prob = sequences[i]\n",
        "\n",
        "      # if already at EOS then don't expand more, but keep in running\n",
        "      if prev_y[0][0] == EOS_INDEX:\n",
        "        all_candidates.append([seq, hidden, prev_y,beam_log_prob])\n",
        "        continue\n",
        "\n",
        "      # expand current candidate and get log_probs\n",
        "      with torch.no_grad():\n",
        "        hidden, outputs = model.decode(encoder_finals, prev_y, hidden)\n",
        "        log_probs = model.generator(outputs[:, -1])\n",
        "\n",
        "      # multiply probs by the current beam probability (=add logprobs)\n",
        "      log_probs += beam_log_prob\n",
        "\n",
        "      # get k best from this beam\n",
        "      k_probs, k_next_words = torch.topk(log_probs, beam_width, dim=1)\n",
        "      for m in range(len(k_next_words[0])):\n",
        "        next_word = k_next_words[0][m]\n",
        "        next_prob = k_probs[0][m]\n",
        "\n",
        "        current_seq = seq[:]\n",
        "\n",
        "        next_word_int = next_word.data.item()\n",
        "        current_seq.append(next_word_int)\n",
        "      \n",
        "        prev_y = torch.ones(1, 1).type_as(src_ids).fill_(next_word_int)\n",
        "        all_candidates.append([current_seq, hidden, prev_y,next_prob])\n",
        "\n",
        "    # continue with only only best k\n",
        "    new_sequences = sorted(all_candidates, key=lambda x: x[-1], reverse=True)[:beam_width]\n",
        "\n",
        "  # remove </s> from end of each\n",
        "  output = [np.array(seq[0])[:-1] for seq in new_sequences]\n",
        "  # --------- Your code ends --------- #\n",
        "\n",
        "  return output\n",
        "\n",
        "lab_utils.print_examples(pure_seq2seq, src_vocab_set, trg_vocab_set,\n",
        "                         example_data_loader, og_beam_search, beam_width=3)"
      ],
      "execution_count": 166,
      "outputs": [
        {
          "output_type": "stream",
          "text": [
            "Example #1\n",
            "Src :  \n",
            "Trg :  \n",
            "Pred #1:  Now , let &apos;s take a look at the bottom .\n",
            "Pred #2:  Now , let &apos;s take a look at the top of the world .\n",
            "Pred #3:  Now , let &apos;s take a look at the top of the brain .\n",
            "\n",
            "Example #2\n",
            "Src :  Tôi muốn cho các bạn biết về sự to lớn của những nỗ lực khoa học đã góp phần làm nên các dòng tít bạn thường thấy trên báo .\n",
            "Trg :  I &apos;d like to talk to you today about the scale of the scientific effort that goes into making the headlines you see in the paper .\n",
            "Pred #1:  I want to tell you about the most important part of the world , because the most important part of the world is .\n",
            "Pred #2:  I want to tell you about the most important part of the world , because the most important part of the world is really .\n",
            "Pred #3:  I want to tell you about the most important part of the world , because the most important part of the world is really quite .\n",
            "\n",
            "Example #3\n",
            "Src :  Có những dòng trông như thế này khi bàn về biến đổi khí hậu , và như thế này khi nói về chất lượng không khí hay khói bụi .\n",
            "Trg :  <unk> that look like this when they have to do with climate change , and headlines that look like this when they have to do with air quality or smog .\n",
            "Pred #1:  There are these two things that are going to be done , and it &apos;s not going to be in the middle of the right now , and it &apos;s going to be the right now .\n",
            "Pred #2:  There are these two things that are going to be done , and it &apos;s not going to be in the middle of the right now , and it &apos;s going to be in the way .\n",
            "Pred #3:  There are these two things that are going to be done , and it &apos;s not going to be in the middle of the right now , and it &apos;s going to be in the way to the right .\n",
            "\n"
          ],
          "name": "stdout"
        }
      ]
    },
    {
      "cell_type": "markdown",
      "metadata": {
        "id": "JKkexRkjWrW5"
      },
      "source": [
        "#### Beam Extensions\n",
        "\n",
        "Beam has many issues. One is that longer hypotheses have lower scores.\n",
        "\n",
        "* **Length normalization:** length_penalty(Y)=(5+|Y|)^α/(5+1)^α where |Y| is the current hypothesis length and α is the length normalization coefficient (as defined in [Wu et al. 2016](https://arxiv.org/abs/1609.08144)).\n",
        "* **End of sentence normalization:** eos_penalty(X,Y)= γ *|X|/|Y| where |X| is the source length, |Y| is the current target length and γ is the end of sentence normalization coefficient\n",
        "* **Hypothesis Filtering:** drop hypothesis with more X unknown words \n",
        "\n",
        "\n",
        "\n",
        "\n"
      ]
    },
    {
      "cell_type": "code",
      "metadata": {
        "id": "dRibSPP5Z7RB"
      },
      "source": [
        "def beam_plus_search(model, src_ids, src_lengths, max_len, beam_width=5):\n",
        "  \"\"\"Use beam search to decode a sentence for EncoderDecoder.\"\"\"\n",
        "  #TODO if desired\n",
        "  return None\n",
        "\n",
        "lab_utils.print_examples(pure_seq2seq, src_vocab_set, trg_vocab_set, \n",
        "                         example_data_loader, beam_plus_search, beam_width=3)"
      ],
      "execution_count": null,
      "outputs": []
    },
    {
      "cell_type": "markdown",
      "metadata": {
        "id": "4ji_jPyNIJrN"
      },
      "source": [
        "## Section 7: Testing\n",
        "Compute the BLEU score. BLEU score is a standard measure to evaluate the translation results. For further details, you can refer to [this](https://en.wikipedia.org/wiki/BLEU) link."
      ]
    },
    {
      "cell_type": "code",
      "metadata": {
        "colab": {
          "base_uri": "https://localhost:8080/"
        },
        "id": "C5q6hAcKILyW",
        "outputId": "7dd58116-1530-4c28-c33f-9f2a86304450"
      },
      "source": [
        "test_set = MTDataset(test_src_sentences_list, src_vocab_set,\n",
        "                     test_trg_sentences_list, trg_vocab_set, sampling=1.)\n",
        "test_data_loader = data.DataLoader(test_set, batch_size=1, num_workers=8,\n",
        "                                   shuffle=False)\n",
        "\n",
        "print('BLEU score: %f' % (np.mean(lab_utils.compute_BLEU(pure_seq2seq,\n",
        "                                                         test_data_loader,\n",
        "                                                         greedy_decode,\n",
        "                                                         trg_vocab_set))))"
      ],
      "execution_count": null,
      "outputs": [
        {
          "output_type": "stream",
          "text": [
            " 39%|███▉      | 444/1139 [00:14<00:21, 31.91it/s]"
          ],
          "name": "stderr"
        }
      ]
    }
  ]
}